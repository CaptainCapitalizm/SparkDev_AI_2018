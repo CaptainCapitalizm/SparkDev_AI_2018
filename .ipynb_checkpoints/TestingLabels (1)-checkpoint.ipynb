{
 "cells": [
  {
   "cell_type": "code",
   "execution_count": 43,
   "metadata": {
    "collapsed": true
   },
   "outputs": [],
   "source": [
    "import os\n",
    "from pandas import *\n",
    "from xml.etree import ElementTree\n",
    "from xml.dom import minidom\n",
    "from skimage import io\n",
    "from PIL import Image"
   ]
  },
  {
   "cell_type": "code",
   "execution_count": 44,
   "metadata": {},
   "outputs": [
    {
     "name": "stdout",
     "output_type": "stream",
     "text": [
      "Done\n"
     ]
    }
   ],
   "source": [
    "xmldoc = minidom.parse('MiracleDataFile.xml')\n",
    "itemlist = xmldoc.getElementsByTagName('word')\n",
    "print()"
   ]
  },
  {
   "cell_type": "code",
   "execution_count": 86,
   "metadata": {},
   "outputs": [
    {
     "name": "stdout",
     "output_type": "stream",
     "text": [
      "              Text         Word Id\n",
      "135647           A  a01-000u-00-00\n",
      "135648        MOVE  a01-000u-00-01\n",
      "135649          to  a01-000u-00-02\n",
      "135650        stop  a01-000u-00-03\n",
      "135651         Mr.  a01-000u-00-04\n",
      "135652   Gaitskell  a01-000u-00-05\n",
      "135653        from  a01-000u-00-06\n",
      "135654  nominating  a01-000u-01-00\n",
      "135655         any  a01-000u-01-01\n",
      "135656        more  a01-000u-01-02\n",
      "135657      Labour  a01-000u-01-03\n",
      "135658        life  a01-000u-01-04\n",
      "135659       Peers  a01-000u-01-05\n",
      "135660          is  a01-000u-02-00\n",
      "135661          to  a01-000u-02-01\n",
      "135662          be  a01-000u-02-02\n",
      "135663        made  a01-000u-02-03\n",
      "135664          at  a01-000u-02-04\n",
      "135665           a  a01-000u-02-05\n",
      "135666     meeting  a01-000u-02-06\n",
      "135667          of  a01-000u-02-07\n",
      "135668      Labour  a01-000u-02-08\n",
      "135669        M Ps  a01-000u-03-00\n",
      "135670    tomorrow  a01-000u-03-01\n",
      "135671           .  a01-000u-03-02\n",
      "135672         Mr.  a01-000u-03-03\n",
      "135673     Michael  a01-000u-03-04\n",
      "135674        Foot  a01-000u-03-05\n",
      "135675         has  a01-000u-03-06\n",
      "135676         put  a01-000u-04-00\n",
      "...            ...             ...\n",
      "77354         said   r06-143-02-07\n",
      "77355            :   r06-143-02-08\n",
      "77356            '   r06-143-02-09\n",
      "77357       Philip   r06-143-02-10\n",
      "77358           's   r06-143-02-11\n",
      "77359      awfully   r06-143-02-12\n",
      "77360        lucky   r06-143-02-13\n",
      "77361            .   r06-143-02-14\n",
      "77362            I   r06-143-03-00\n",
      "77363         wish   r06-143-03-01\n",
      "77364            I   r06-143-03-02\n",
      "77365         went   r06-143-03-03\n",
      "77366           to   r06-143-03-04\n",
      "77367         that   r06-143-03-05\n",
      "77368       school   r06-143-03-06\n",
      "77369            .   r06-143-03-07\n",
      "77370          Did   r06-143-03-08\n",
      "77371          you   r06-143-03-09\n",
      "77372       notice   r06-143-03-10\n",
      "77373         that   r06-143-04-00\n",
      "77374         girl   r06-143-04-01\n",
      "77375          who   r06-143-04-02\n",
      "77376         said   r06-143-04-03\n",
      "77377        hullo   r06-143-04-04\n",
      "77378           to   r06-143-04-05\n",
      "77379          him   r06-143-04-06\n",
      "77380           in   r06-143-04-07\n",
      "77381          the   r06-143-04-08\n",
      "77382       garden   r06-143-04-09\n",
      "77383            ?   r06-143-04-10\n",
      "\n",
      "[115320 rows x 2 columns]\n"
     ]
    }
   ],
   "source": [
    "i = 0\n",
    "labels = []\n",
    "words = []\n",
    "for z in itemlist:\n",
    "    labels.append(z.attributes['id'].value)\n",
    "    words.append(z.attributes['text'].value)\n",
    "    \n",
    "#print(store)\n",
    "df = DataFrame({'Word Id': labels, 'Text': words})\n",
    "df = DataFrame.drop_duplicates(df)\n",
    "df = df.sort_values(by = ['Word Id'], ascending=[True])\n",
    "print(df)"
   ]
  },
  {
   "cell_type": "code",
   "execution_count": null,
   "metadata": {
    "collapsed": true
   },
   "outputs": [],
   "source": [
    "   "
   ]
  }
 ],
 "metadata": {
  "kernelspec": {
   "display_name": "Python 3",
   "language": "python",
   "name": "python3"
  },
  "language_info": {
   "codemirror_mode": {
    "name": "ipython",
    "version": 3
   },
   "file_extension": ".py",
   "mimetype": "text/x-python",
   "name": "python",
   "nbconvert_exporter": "python",
   "pygments_lexer": "ipython3",
   "version": "3.6.3"
  },
  "varInspector": {
   "cols": {
    "lenName": 16,
    "lenType": 16,
    "lenVar": 40
   },
   "kernels_config": {
    "python": {
     "delete_cmd_postfix": "",
     "delete_cmd_prefix": "del ",
     "library": "var_list.py",
     "varRefreshCmd": "print(var_dic_list())"
    },
    "r": {
     "delete_cmd_postfix": ") ",
     "delete_cmd_prefix": "rm(",
     "library": "var_list.r",
     "varRefreshCmd": "cat(var_dic_list()) "
    }
   },
   "types_to_exclude": [
    "module",
    "function",
    "builtin_function_or_method",
    "instance",
    "_Feature"
   ],
   "window_display": false
  }
 },
 "nbformat": 4,
 "nbformat_minor": 2
}
