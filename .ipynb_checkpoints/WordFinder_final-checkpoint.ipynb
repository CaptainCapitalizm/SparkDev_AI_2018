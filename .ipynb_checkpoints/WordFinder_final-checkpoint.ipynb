{
 "cells": [
  {
   "cell_type": "code",
   "execution_count": 15,
   "metadata": {
    "collapsed": true
   },
   "outputs": [],
   "source": [
    "import numpy as np\n",
    "import cv2"
   ]
  },
  {
   "cell_type": "code",
   "execution_count": 19,
   "metadata": {},
   "outputs": [],
   "source": [
    "def write_regions(regions, hulls, img):\n",
    "    for i, contour in enumerate(hulls):\n",
    "        x,y,w,h = cv2.boundingRect(contour)\n",
    "        cv2.imwrite('Regions\\{}.png'.format(i), img[y:y+h,x:x+w])"
   ]
  },
  {
   "cell_type": "code",
   "execution_count": 20,
   "metadata": {},
   "outputs": [],
   "source": [
    "def findText(img):\n",
    "    mser = cv2.MSER_create();\n",
    "    img = img\n",
    "    img = cv2.resize(img, (650, 650)) \n",
    "    #cv2.imshow('test', img)\n",
    "    #cv2.waitKey(0)\n",
    "    img_final = img\n",
    "    h,w = img.shape[:2]\n",
    "    img2gray = cv2.cvtColor(img, cv2.COLOR_BGR2GRAY)\n",
    "    ret, mask = cv2.threshold(img2gray, 80, 255, cv2.THRESH_BINARY)\n",
    "    image_final = cv2.bitwise_and(img2gray, img2gray, mask=mask)\n",
    "    \n",
    "    ## The things you dont want\n",
    "    ret, new_img_lights = cv2.threshold(image_final, 60,255,cv2.THRESH_BINARY) ## the light turns black\n",
    "    \n",
    "    #cv2.imshow('test', new_img_lights)\n",
    "    #cv2.waitKey(0)\n",
    "        \n",
    "    ret, new_img = cv2.threshold(new_img_lights, 60,255,cv2.THRESH_BINARY_INV)\n",
    "    \n",
    "    #cv2.imshow('test', new_img)\n",
    "    #cv2.waitKey(0)\n",
    "    ##test2 = cv2.adaptiveThreshold(image_final,255,cv2.ADAPTIVE_THRESH_GAUSSIAN_C, cv2.THRESH_BINARY, 11, 2)\n",
    "    #ret, new_img = cv2.threshold(image_final,20,255,cv2.THRESH_BINARY)\n",
    "    \n",
    "    kernel = cv2.getStructuringElement(cv2.MORPH_CROSS, (int(h*.015),int(h*.015)))\n",
    "    dilated = cv2.dilate(new_img, kernel, iterations = 1)\n",
    "    \n",
    "    #ret, new_dst = cv2.threshold(dst,20,255,cv2.THRESH_BINARY_INV)\n",
    "    \n",
    "    #cv2.imshow('test', dilated)\n",
    "    #cv2.waitKey(0)\n",
    "   \n",
    "    regions = mser.detectRegions(dilated)\n",
    "    hulls = [cv2.convexHull(p.reshape(-1, 1, 2)) for p in regions[0]]\n",
    "    cv2.polylines(img, hulls, 1, (0,255,0)) \n",
    "    #cv2.imshow('captcha_result', img)\n",
    "    #cv2.imwrite('ItWorks!.jpg', img)\n",
    "    #cv2.waitKey(0)\n",
    "    \n",
    "    write_regions(regions,hulls, img)\n",
    "\n",
    "findText(cv2.imread('test9.jpg'))"
   ]
  },
  {
   "cell_type": "code",
   "execution_count": null,
   "metadata": {
    "collapsed": true
   },
   "outputs": [],
   "source": []
  }
 ],
 "metadata": {
  "kernelspec": {
   "display_name": "Python 3",
   "language": "python",
   "name": "python3"
  },
  "language_info": {
   "codemirror_mode": {
    "name": "ipython",
    "version": 3
   },
   "file_extension": ".py",
   "mimetype": "text/x-python",
   "name": "python",
   "nbconvert_exporter": "python",
   "pygments_lexer": "ipython3",
   "version": "3.6.3"
  },
  "varInspector": {
   "cols": {
    "lenName": 16,
    "lenType": 16,
    "lenVar": 40
   },
   "kernels_config": {
    "python": {
     "delete_cmd_postfix": "",
     "delete_cmd_prefix": "del ",
     "library": "var_list.py",
     "varRefreshCmd": "print(var_dic_list())"
    },
    "r": {
     "delete_cmd_postfix": ") ",
     "delete_cmd_prefix": "rm(",
     "library": "var_list.r",
     "varRefreshCmd": "cat(var_dic_list()) "
    }
   },
   "types_to_exclude": [
    "module",
    "function",
    "builtin_function_or_method",
    "instance",
    "_Feature"
   ],
   "window_display": false
  }
 },
 "nbformat": 4,
 "nbformat_minor": 2
}
